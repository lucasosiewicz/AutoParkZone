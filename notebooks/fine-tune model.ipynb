{
 "cells": [
  {
   "cell_type": "code",
   "execution_count": 12,
   "metadata": {},
   "outputs": [],
   "source": [
    "import os\n",
    "import random\n",
    "import shutil\n",
    "from pathlib import Path\n",
    "import xml.etree.ElementTree as ET\n",
    "\n",
    "from ultralytics import YOLO"
   ]
  },
  {
   "cell_type": "markdown",
   "metadata": {},
   "source": [
    "### Converting XML files into TXT"
   ]
  },
  {
   "cell_type": "code",
   "execution_count": 13,
   "metadata": {},
   "outputs": [],
   "source": [
    "DATA_PATH = Path(\"../data/labels\")\n",
    "\n",
    "\n",
    "def convert(size, box):\n",
    "        dw = 1. / size[0]\n",
    "        dh = 1. / size[1]\n",
    "        x = (box[0] + box[1]) / 2.0 - 1\n",
    "        y = (box[2] + box[3]) / 2.0 - 1\n",
    "        w = box[1] - box[0]\n",
    "        h = box[3] - box[2]\n",
    "        x = x * dw\n",
    "        w = w * dw\n",
    "        y = y * dh\n",
    "        h = h * dh\n",
    "        return (x, y, w, h)\n",
    "\n",
    "\n",
    "if not DATA_PATH.exists():\n",
    "\n",
    "    input_dir = \"../data/annotations\"           # path to the directory containing the xml files\n",
    "    output_dir = \"../data/labels\"               # path to the directory where the txt files will be saved\n",
    "    images_dir = \"../data/images\"               # path to the directory containing the images\n",
    "\n",
    "    # create the output directory if it doesn't exist\n",
    "    if not os.path.exists(output_dir):\n",
    "        os.makedirs(output_dir)\n",
    "\n",
    "    # iter through all the xml files in the input directory\n",
    "    for filename in os.listdir(input_dir):\n",
    "        if not filename.endswith(\".xml\"):\n",
    "            continue\n",
    "        \n",
    "        # parse the xml file\n",
    "        tree = ET.parse(os.path.join(input_dir, filename))\n",
    "        root = tree.getroot()\n",
    "\n",
    "        # get the image size\n",
    "        image_size = root.find(\"size\")\n",
    "        width = int(image_size.find(\"width\").text)\n",
    "        height = int(image_size.find(\"height\").text)\n",
    "\n",
    "        # create the txt file with the same name as the image file and save it in appropriate format\n",
    "        with open(os.path.join(output_dir, filename.replace(\".xml\", \".txt\")), \"w\") as out_file:\n",
    "            for obj in root.iter(\"object\"):\n",
    "                cls = obj.find(\"name\").text\n",
    "                if cls != \"licence\":  \n",
    "                    continue\n",
    "                cls_id = 0  # hardcoding class id for licence plate\n",
    "\n",
    "                xmlbox = obj.find(\"bndbox\")\n",
    "                b = (float(xmlbox.find(\"xmin\").text), float(xmlbox.find(\"xmax\").text),\n",
    "                    float(xmlbox.find(\"ymin\").text), float(xmlbox.find(\"ymax\").text))\n",
    "                bb = convert((width, height), b)\n",
    "                out_file.write(f\"{cls_id} \" + \" \".join([str(a) for a in bb]) + '\\n')\n"
   ]
  },
  {
   "cell_type": "markdown",
   "metadata": {},
   "source": [
    "### Splitting dataset into training set and validation set"
   ]
  },
  {
   "cell_type": "code",
   "execution_count": 14,
   "metadata": {},
   "outputs": [],
   "source": [
    "image_dir = \"../data/images/\"\n",
    "label_dir = \"../data/labels/\"\n",
    "\n",
    "train_ratio = 0.8\n",
    "\n",
    "images = [f for f in os.listdir(image_dir) if f.endswith(\".png\")]\n",
    "random.shuffle(images)\n",
    "\n",
    "train_split = int(len(images) * train_ratio)\n",
    "train_images = images[:train_split]\n",
    "val_images = images[train_split:]\n",
    "\n",
    "# Przeniesienie plików\n",
    "for img in train_images:\n",
    "    shutil.move(os.path.join(image_dir, img), os.path.join(image_dir, \"train\", img))\n",
    "    shutil.move(os.path.join(label_dir, img.replace(\".png\", \".txt\")), os.path.join(label_dir, \"train\", img.replace(\".png\", \".txt\")))\n",
    "\n",
    "for img in val_images:\n",
    "    shutil.move(os.path.join(image_dir, img), os.path.join(image_dir, \"val\", img))\n",
    "    shutil.move(os.path.join(label_dir, img.replace(\".png\", \".txt\")), os.path.join(label_dir, \"val\", img.replace(\".png\", \".txt\")))\n"
   ]
  },
  {
   "cell_type": "markdown",
   "metadata": {},
   "source": [
    "### Fine-tuning of YOLO"
   ]
  },
  {
   "cell_type": "code",
   "execution_count": 15,
   "metadata": {},
   "outputs": [],
   "source": [
    "model_path = Path(\"plates_YOLO.pt\")\n",
    "\n",
    "if not model_path.exists():\n",
    "    model = YOLO(\"yolov5s.pt\")\n",
    "    results = model.train(data=\"../data/car_plates.yaml\", \n",
    "                        epochs=100, \n",
    "                        project=\"yolov5s\", \n",
    "                        name=\"yolov5s\", \n",
    "                        exist_ok=True, \n",
    "                        device=0)\n",
    "    \n",
    "    model.save(\"plates_YOLO.pt\")\n",
    "    \n",
    "else:\n",
    "    model = YOLO(model_path)"
   ]
  }
 ],
 "metadata": {
  "kernelspec": {
   "display_name": "Python 3",
   "language": "python",
   "name": "python3"
  },
  "language_info": {
   "codemirror_mode": {
    "name": "ipython",
    "version": 3
   },
   "file_extension": ".py",
   "mimetype": "text/x-python",
   "name": "python",
   "nbconvert_exporter": "python",
   "pygments_lexer": "ipython3",
   "version": "3.12.4"
  }
 },
 "nbformat": 4,
 "nbformat_minor": 2
}
